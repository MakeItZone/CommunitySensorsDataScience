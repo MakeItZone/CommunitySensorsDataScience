{
  "nbformat": 4,
  "nbformat_minor": 0,
  "metadata": {
    "colab": {
      "provenance": [],
      "authorship_tag": "ABX9TyPpFxxu9FVNW+DBseByQFs/",
      "include_colab_link": true
    },
    "kernelspec": {
      "name": "python3",
      "display_name": "Python 3"
    },
    "language_info": {
      "name": "python"
    }
  },
  "cells": [
    {
      "cell_type": "markdown",
      "metadata": {
        "id": "view-in-github",
        "colab_type": "text"
      },
      "source": [
        "<a href=\"https://colab.research.google.com/github/MakeItZone/CommunitySensorsDataScience/blob/main/SensorCommunityExperiments.ipynb\" target=\"_parent\"><img src=\"https://colab.research.google.com/assets/colab-badge.svg\" alt=\"Open In Colab\"/></a>"
      ]
    },
    {
      "cell_type": "markdown",
      "source": [
        "# Example Code to Read Sensor Data from Sensor.Community\n",
        "\n",
        "Roughly documenting my process of experimentation and discovery.\n",
        "\n",
        "First, try and find some background info on the task at hand.\n",
        "\n",
        "- https://github.com/bessarabov/api.sensor.community\n",
        "- https://github.com/opendata-stuttgart/meta/wiki/EN-APIs\n",
        "\n",
        "So a REST API.\n",
        "\n",
        "Not much info on what the expected format will be; let's take a look at the server side code- the code that will recieve and process the data:\n",
        "\n",
        "- https://github.com/opendata-stuttgart/feinstaub-api/tree/master/feinstaub/sensors\n",
        "\n",
        "Aside: Django uses the Python code structure to figure out and create database tables.\n",
        "\n",
        "So even though I don't fully understand the code, I can see what the allowed sensor type names are, etc.\n",
        "\n",
        "When experimenting, I don't want to pollute the production data- so are there testing facilities?\n",
        "\n",
        "-https://forum.sensor.community/t/test-phase-settings/739- push to own API to not pollute main database\n",
        "\n",
        "And how often should data be updated?\n",
        "\n",
        "- https://forum.sensor.community/t/how-often-should-i-send-data-to-https-api-sensor-community-v1-push-sensor-data/785\n",
        "\n",
        "What about deleting or changing (test) sensors?\n",
        "\n",
        "- https://forum.sensor.community/t/reregister-unregister-sensor/494\n",
        "- https://devices.sensor.community/\n",
        "-https://sensor.community/en/sensors/airrohr/\n",
        "\n",
        "it looks like the definition of a node (e.g. addding a sensor, changing the types of sensors, etc) requires an email to support.\n",
        "\n",
        "During the experimentation phase, we may want to generate ids ourselves so that sensor design can be iterated.\n",
        "\n",
        "Also, looks like there is a requirement that updates happen at least every 5 minutes for them to be shown on the main map.\n",
        "\n",
        "Does python have any easy ways to deal with making REST requests?\n",
        "- https://www.nylas.com/blog/use-python-requests-module-rest-apis/\n",
        "- https://realpython.com/api-integration-in-python/\n",
        "\n",
        "Time to start experimenting..."
      ],
      "metadata": {
        "id": "tujrqH8ej_6O"
      }
    },
    {
      "cell_type": "code",
      "source": [
        "import requests\n"
      ],
      "metadata": {
        "id": "wm6mRfRjksvT"
      },
      "execution_count": 1,
      "outputs": []
    },
    {
      "cell_type": "code",
      "source": [
        "sensor_id= 70249 # found a sensor from the map\n",
        "endpoint = f\"https://data.sensor.community/airrohr/v1/sensor/{sensor_id}/\"\n",
        "print(f\"Endpoint is: {endpoint}\")"
      ],
      "metadata": {
        "colab": {
          "base_uri": "https://localhost:8080/"
        },
        "id": "iqFBBZr-k1Wk",
        "outputId": "e442c371-cb6d-4451-89b4-164b2ae583dc"
      },
      "execution_count": 2,
      "outputs": [
        {
          "output_type": "stream",
          "name": "stdout",
          "text": [
            "Endpoint is: https://data.sensor.community/airrohr/v1/sensor/70249/\n"
          ]
        }
      ]
    },
    {
      "cell_type": "markdown",
      "source": [
        "Check: copy the generated URL above and paste it in a new browser tab. Does it work as expected?"
      ],
      "metadata": {
        "id": "f5QDbrEaVZwS"
      }
    },
    {
      "cell_type": "code",
      "source": [
        "response = requests.get(endpoint)\n",
        "print(response)\n",
        "print(response.text) \n",
        "print(response.json)"
      ],
      "metadata": {
        "colab": {
          "base_uri": "https://localhost:8080/"
        },
        "id": "fxvI9qI5oIKv",
        "outputId": "5bc51e1b-92a3-410e-c69a-5ec2caedf49e"
      },
      "execution_count": 6,
      "outputs": [
        {
          "output_type": "stream",
          "name": "stdout",
          "text": [
            "<Response [200]>\n",
            "[{\"sampling_rate\":null,\"sensordatavalues\":[{\"value_type\":\"P2\",\"value\":\"4\",\"id\":28580551259},{\"value_type\":\"P1\",\"value\":\"5\",\"id\":28580551279}],\"timestamp\":\"2022-11-02 21:00:04\",\"sensor\":{\"pin\":\"1\",\"sensor_type\":{\"manufacturer\":\"Plantower\",\"id\":23,\"name\":\"PMS5003\"},\"id\":70249},\"location\":{\"indoor\":0,\"altitude\":\"15.0\",\"country\":\"CA\",\"latitude\":\"48.416\",\"exact_location\":0,\"id\":57644,\"longitude\":\"-123.374\"},\"id\":12797406423}]\n",
            "<bound method Response.json of <Response [200]>>\n"
          ]
        }
      ]
    },
    {
      "cell_type": "markdown",
      "source": [
        "`response.json` is outputting that it's a bound method; ie not a string, but a method we should call."
      ],
      "metadata": {
        "id": "8ZswKkjoImNW"
      }
    },
    {
      "cell_type": "code",
      "source": [
        "response.json()"
      ],
      "metadata": {
        "colab": {
          "base_uri": "https://localhost:8080/"
        },
        "id": "1MIiASvMoTt3",
        "outputId": "630f377b-840b-4768-9d29-c579fb5ebaa4"
      },
      "execution_count": 7,
      "outputs": [
        {
          "output_type": "execute_result",
          "data": {
            "text/plain": [
              "[{'sampling_rate': None,\n",
              "  'sensordatavalues': [{'value_type': 'P2', 'value': '4', 'id': 28580551259},\n",
              "   {'value_type': 'P1', 'value': '5', 'id': 28580551279}],\n",
              "  'timestamp': '2022-11-02 21:00:04',\n",
              "  'sensor': {'pin': '1',\n",
              "   'sensor_type': {'manufacturer': 'Plantower', 'id': 23, 'name': 'PMS5003'},\n",
              "   'id': 70249},\n",
              "  'location': {'indoor': 0,\n",
              "   'altitude': '15.0',\n",
              "   'country': 'CA',\n",
              "   'latitude': '48.416',\n",
              "   'exact_location': 0,\n",
              "   'id': 57644,\n",
              "   'longitude': '-123.374'},\n",
              "  'id': 12797406423}]"
            ]
          },
          "metadata": {},
          "execution_count": 7
        }
      ]
    },
    {
      "cell_type": "markdown",
      "source": [
        "Interesting; looks like the last two sets of samples. Let's explore a bit more...\n"
      ],
      "metadata": {
        "id": "Ml9hsjHPvzLQ"
      }
    },
    {
      "cell_type": "code",
      "source": [
        "json= response.json()\n",
        "print(json[0])"
      ],
      "metadata": {
        "colab": {
          "base_uri": "https://localhost:8080/"
        },
        "id": "kNZCUn-FI9i8",
        "outputId": "20419baa-54eb-4518-c34a-5107533f0ac0"
      },
      "execution_count": 8,
      "outputs": [
        {
          "output_type": "stream",
          "name": "stdout",
          "text": [
            "{'sampling_rate': None, 'sensordatavalues': [{'value_type': 'P2', 'value': '4', 'id': 28580551259}, {'value_type': 'P1', 'value': '5', 'id': 28580551279}], 'timestamp': '2022-11-02 21:00:04', 'sensor': {'pin': '1', 'sensor_type': {'manufacturer': 'Plantower', 'id': 23, 'name': 'PMS5003'}, 'id': 70249}, 'location': {'indoor': 0, 'altitude': '15.0', 'country': 'CA', 'latitude': '48.416', 'exact_location': 0, 'id': 57644, 'longitude': '-123.374'}, 'id': 12797406423}\n"
          ]
        }
      ]
    },
    {
      "cell_type": "markdown",
      "source": [
        "Ok, that's starting to make sense, let's explore a bit further...\n"
      ],
      "metadata": {
        "id": "sGdBpr8iJC6t"
      }
    },
    {
      "cell_type": "code",
      "source": [
        "data = json[0][\"sensordatavalues\"]"
      ],
      "metadata": {
        "id": "QPSkkEPPKBlr"
      },
      "execution_count": 9,
      "outputs": []
    },
    {
      "cell_type": "code",
      "source": [
        "data"
      ],
      "metadata": {
        "colab": {
          "base_uri": "https://localhost:8080/"
        },
        "id": "AS8y_5MMKNWC",
        "outputId": "21ed0881-ef56-4501-b4c0-5805b08639a3"
      },
      "execution_count": 10,
      "outputs": [
        {
          "output_type": "execute_result",
          "data": {
            "text/plain": [
              "[{'value_type': 'P2', 'value': '4', 'id': 28580551259},\n",
              " {'value_type': 'P1', 'value': '5', 'id': 28580551279}]"
            ]
          },
          "metadata": {},
          "execution_count": 10
        }
      ]
    },
    {
      "cell_type": "code",
      "source": [
        "sensor=json[0][\"sensor\"]\n",
        "sensor"
      ],
      "metadata": {
        "colab": {
          "base_uri": "https://localhost:8080/"
        },
        "id": "6MeDRzhSKN5L",
        "outputId": "902f15fd-8e0e-4b80-b5cf-446ef2932b4a"
      },
      "execution_count": 11,
      "outputs": [
        {
          "output_type": "execute_result",
          "data": {
            "text/plain": [
              "{'pin': '1',\n",
              " 'sensor_type': {'manufacturer': 'Plantower', 'id': 23, 'name': 'PMS5003'},\n",
              " 'id': 70249}"
            ]
          },
          "metadata": {},
          "execution_count": 11
        }
      ]
    },
    {
      "cell_type": "code",
      "source": [
        "location=json[0][\"location\"]\n",
        "location"
      ],
      "metadata": {
        "colab": {
          "base_uri": "https://localhost:8080/"
        },
        "id": "xSWlU2ESKbNS",
        "outputId": "21b85945-cc5f-4be6-bba9-c1e3d2ec7ebf"
      },
      "execution_count": 12,
      "outputs": [
        {
          "output_type": "execute_result",
          "data": {
            "text/plain": [
              "{'indoor': 0,\n",
              " 'altitude': '15.0',\n",
              " 'country': 'CA',\n",
              " 'latitude': '48.416',\n",
              " 'exact_location': 0,\n",
              " 'id': 57644,\n",
              " 'longitude': '-123.374'}"
            ]
          },
          "metadata": {},
          "execution_count": 12
        }
      ]
    },
    {
      "cell_type": "markdown",
      "source": [
        "So the data structure looks to be pretty straight forward.\n",
        "\n",
        "Open question: what generates the `ID`s? \n",
        "\n",
        "With luck, only the top level sensor `id` (the one used in the URL **not** the one in the JSON response) is needed for a post.\n"
      ],
      "metadata": {
        "id": "jui4Ltu5RNsQ"
      }
    },
    {
      "cell_type": "markdown",
      "source": [
        "# POST\n",
        "\n",
        "TODO\n",
        "\n",
        "* sign up on devices.community.sensor\n",
        "* read through the POST documentation and see how to register a new sensor\n",
        "* set it to report own data (not record on main map)\n",
        "* push data\n",
        "* verify it's sent"
      ],
      "metadata": {
        "id": "TWKZ4RnmSHz-"
      }
    },
    {
      "cell_type": "code",
      "source": [],
      "metadata": {
        "id": "N7v_qihwTJDl"
      },
      "execution_count": null,
      "outputs": []
    }
  ]
}